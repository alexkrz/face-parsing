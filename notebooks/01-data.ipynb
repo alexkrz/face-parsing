{
 "cells": [
  {
   "cell_type": "code",
   "execution_count": null,
   "metadata": {},
   "outputs": [],
   "source": [
    "import os\n",
    "import sys\n",
    "from pathlib import Path\n",
    "\n",
    "import matplotlib.pyplot as plt\n",
    "import numpy as np\n",
    "from matplotlib.patches import Patch\n",
    "from PIL import Image\n",
    "\n",
    "sys.path.append(\"../\")\n",
    "from utils import LABEL_COLORS, label2rgb\n",
    "\n",
    "%load_ext autoreload\n",
    "%autoreload 2"
   ]
  },
  {
   "cell_type": "code",
   "execution_count": null,
   "metadata": {},
   "outputs": [],
   "source": [
    "NR = 25\n",
    "img_p = Path(os.environ[\"HOME\"] + \"/Data/FacialAttributes/CelebAMask-HQ/CelebA-HQ-img\")\n",
    "mask_p = Path(os.environ[\"HOME\"] + \"/Data/FacialAttributes/CelebAMask-HQ/mask\")\n",
    "img = Image.open(img_p / f\"{NR}.jpg\")\n",
    "mask = Image.open(mask_p / f\"{NR}.png\")\n",
    "print(img)\n",
    "print(mask)"
   ]
  },
  {
   "cell_type": "code",
   "execution_count": null,
   "metadata": {},
   "outputs": [],
   "source": [
    "fig, axs = plt.subplots(1, 2, figsize=(10, 5))\n",
    "axs: list[plt.Axes]\n",
    "\n",
    "axs[0].imshow(img)\n",
    "axs[1].imshow(label2rgb(np.array(mask)))\n",
    "# Create a legend\n",
    "legend_patches = [\n",
    "    Patch(color=np.array(rgb), label=label)  # Normalize RGB to [0, 1] for matplotlib\n",
    "    for rgb, label in zip(list(LABEL_COLORS.values()), list(LABEL_COLORS.keys()))\n",
    "]\n",
    "axs[1].legend(\n",
    "    handles=legend_patches, bbox_to_anchor=(1.05, 1.05), loc=\"upper left\", title=\"Classes\"\n",
    ")\n",
    "plt.show()"
   ]
  },
  {
   "cell_type": "code",
   "execution_count": null,
   "metadata": {},
   "outputs": [],
   "source": []
  }
 ],
 "metadata": {
  "kernelspec": {
   "display_name": "fparsing",
   "language": "python",
   "name": "python3"
  },
  "language_info": {
   "codemirror_mode": {
    "name": "ipython",
    "version": 3
   },
   "file_extension": ".py",
   "mimetype": "text/x-python",
   "name": "python",
   "nbconvert_exporter": "python",
   "pygments_lexer": "ipython3",
   "version": "3.9.20"
  }
 },
 "nbformat": 4,
 "nbformat_minor": 2
}
