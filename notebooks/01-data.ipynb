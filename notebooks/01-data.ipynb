{
 "cells": [
  {
   "cell_type": "code",
   "execution_count": null,
   "metadata": {},
   "outputs": [],
   "source": [
    "import os\n",
    "import sys\n",
    "from pathlib import Path\n",
    "\n",
    "import matplotlib.pyplot as plt\n",
    "import numpy as np\n",
    "from PIL import Image\n",
    "from matplotlib.patches import Patch\n",
    "\n",
    "sys.path.append(\"../\")\n",
    "from utils import label2rgb, LABEL_COLORS\n",
    "\n",
    "%load_ext autoreload\n",
    "%autoreload 2"
   ]
  },
  {
   "cell_type": "code",
   "execution_count": null,
   "metadata": {},
   "outputs": [],
   "source": [
    "mask_p = Path(os.environ[\"HOME\"] + \"/Data/FacialAttributes/CelebAMask-HQ/mask\")\n",
    "mask = Image.open(mask_p / \"23.png\")\n",
    "print(mask)"
   ]
  },
  {
   "cell_type": "code",
   "execution_count": null,
   "metadata": {},
   "outputs": [],
   "source": [
    "mask = np.array(mask)\n",
    "plt.imshow(label2rgb(mask))\n",
    "# Create a legend\n",
    "legend_patches = [\n",
    "    Patch(color=np.array(rgb), label=label)  # Normalize RGB to [0, 1] for matplotlib\n",
    "    for rgb, label in zip(list(LABEL_COLORS.values()), list(LABEL_COLORS.keys()))\n",
    "]\n",
    "plt.legend(handles=legend_patches, bbox_to_anchor=(1.05, 1.05), loc='upper left', title=\"Classes\")\n",
    "plt.show()"
   ]
  },
  {
   "cell_type": "code",
   "execution_count": null,
   "metadata": {},
   "outputs": [],
   "source": []
  }
 ],
 "metadata": {
  "kernelspec": {
   "display_name": "fparsing",
   "language": "python",
   "name": "python3"
  },
  "language_info": {
   "codemirror_mode": {
    "name": "ipython",
    "version": 3
   },
   "file_extension": ".py",
   "mimetype": "text/x-python",
   "name": "python",
   "nbconvert_exporter": "python",
   "pygments_lexer": "ipython3",
   "version": "3.9.20"
  }
 },
 "nbformat": 4,
 "nbformat_minor": 2
}
