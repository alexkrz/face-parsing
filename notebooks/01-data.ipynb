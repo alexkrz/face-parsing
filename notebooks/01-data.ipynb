{
 "cells": [
  {
   "cell_type": "code",
   "execution_count": null,
   "metadata": {},
   "outputs": [],
   "source": [
    "import os\n",
    "from pathlib import Path\n",
    "\n",
    "import matplotlib.pyplot as plt\n",
    "import numpy as np\n",
    "from PIL import Image\n",
    "from matplotlib.colors import ListedColormap"
   ]
  },
  {
   "cell_type": "code",
   "execution_count": null,
   "metadata": {},
   "outputs": [],
   "source": [
    "# Label dict\n",
    "atts = ['skin', 'l_brow', 'r_brow', 'l_eye', 'r_eye', 'eye_g', 'l_ear', 'r_ear', 'ear_r', 'nose', 'mouth', 'u_lip', 'l_lip', 'neck', 'neck_l', 'cloth', 'hair', 'hat']\n",
    "labels = {index: value for index, value in enumerate(atts)}\n",
    "print(len(labels))"
   ]
  },
  {
   "cell_type": "code",
   "execution_count": null,
   "metadata": {},
   "outputs": [],
   "source": [
    "existing_cmap = plt.cm.tab20\n",
    "\n",
    "# Pick 18 equally spaced colors\n",
    "num_colors = len(labels)\n",
    "colors = [existing_cmap(i) for i in np.linspace(0, 1, num_colors)]\n",
    "\n",
    "color_dict = {labels[i]: colors[i] for i in range(len(labels))}\n",
    "color_dict[\"background\"] = (0.0, 0.0, 0.0) \n",
    "colors.insert(0, color_dict[\"background\"])\n",
    "\n",
    "# Create a new colormap with these 18 colors\n",
    "custom_cmap = ListedColormap(colors)\n",
    "print(len(colors))\n",
    "print(len(color_dict))"
   ]
  },
  {
   "cell_type": "code",
   "execution_count": null,
   "metadata": {},
   "outputs": [],
   "source": [
    "mask_p = Path(os.environ[\"HOME\"] + \"/Data/FacialAttributes/CelebAMask-HQ/mask\")\n",
    "mask = Image.open(mask_p / \"1.png\")\n",
    "print(mask)"
   ]
  },
  {
   "cell_type": "code",
   "execution_count": null,
   "metadata": {},
   "outputs": [],
   "source": [
    "plt.imshow(mask, cmap=custom_cmap)\n",
    "plt.colorbar(ticks=range(len(color_dict)), label=\"Labels\")\n",
    "plt.show()"
   ]
  },
  {
   "cell_type": "code",
   "execution_count": null,
   "metadata": {},
   "outputs": [],
   "source": []
  }
 ],
 "metadata": {
  "kernelspec": {
   "display_name": "fparsing",
   "language": "python",
   "name": "python3"
  },
  "language_info": {
   "codemirror_mode": {
    "name": "ipython",
    "version": 3
   },
   "file_extension": ".py",
   "mimetype": "text/x-python",
   "name": "python",
   "nbconvert_exporter": "python",
   "pygments_lexer": "ipython3",
   "version": "3.9.20"
  }
 },
 "nbformat": 4,
 "nbformat_minor": 2
}
