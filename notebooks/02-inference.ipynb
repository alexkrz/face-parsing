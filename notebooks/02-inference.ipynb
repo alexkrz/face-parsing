{
 "cells": [
  {
   "cell_type": "code",
   "execution_count": null,
   "metadata": {},
   "outputs": [],
   "source": [
    "import os\n",
    "import sys\n",
    "from pathlib import Path\n",
    "\n",
    "import matplotlib.pyplot as plt\n",
    "import numpy as np\n",
    "import torch\n",
    "from matplotlib.patches import Patch\n",
    "from PIL import Image\n",
    "from torchvision import transforms\n",
    "\n",
    "sys.path.append(\"../\")\n",
    "from model import BiSeNet\n",
    "from utils import LABEL_COLORS, label2rgb\n",
    "\n",
    "%load_ext autoreload\n",
    "%autoreload 2"
   ]
  },
  {
   "cell_type": "code",
   "execution_count": null,
   "metadata": {},
   "outputs": [],
   "source": [
    "# Load data\n",
    "NR = 28973\n",
    "img_p = Path(os.environ[\"HOME\"] + \"/Data/FacialAttributes/CelebAMask-HQ/CelebA-HQ-img\")\n",
    "mask_p = Path(os.environ[\"HOME\"] + \"/Data/FacialAttributes/CelebAMask-HQ/mask\")\n",
    "pil_img = Image.open(img_p / f\"{NR}.jpg\")\n",
    "gt_mask = Image.open(mask_p / f\"{NR}.png\")\n",
    "plt.imshow(pil_img)\n",
    "plt.show()"
   ]
  },
  {
   "cell_type": "code",
   "execution_count": null,
   "metadata": {},
   "outputs": [],
   "source": [
    "# Set up model\n",
    "net = BiSeNet(n_classes=19)\n",
    "net.cuda()\n",
    "net.load_state_dict(torch.load(\"../res/cp/79999_iter.pth\"))\n",
    "net.eval()\n",
    "\n",
    "to_tensor = transforms.Compose(\n",
    "    [\n",
    "        transforms.ToTensor(),\n",
    "        transforms.Normalize((0.485, 0.456, 0.406), (0.229, 0.224, 0.225)),\n",
    "    ]\n",
    ")\n",
    "\n",
    "# Run inference\n",
    "with torch.no_grad():\n",
    "    image = pil_img.resize((512, 512), Image.BILINEAR)\n",
    "    img = to_tensor(image)\n",
    "    img = torch.unsqueeze(img, 0)\n",
    "    img = img.cuda()\n",
    "    out = net(img)[0]\n",
    "    parsing = out.squeeze(0).cpu().numpy().argmax(0)\n",
    "\n",
    "print(parsing.shape)"
   ]
  },
  {
   "cell_type": "code",
   "execution_count": null,
   "metadata": {},
   "outputs": [],
   "source": [
    "fig, axs = plt.subplots(1, 3, figsize=(12, 4))\n",
    "axs: list[plt.Axes]\n",
    "\n",
    "axs[0].imshow(pil_img)\n",
    "axs[0].set_title(\"Image\")\n",
    "axs[1].imshow(label2rgb(np.array(gt_mask)))\n",
    "axs[1].set_title(\"GT Mask\")\n",
    "axs[2].imshow(label2rgb(parsing))\n",
    "axs[2].set_title(\"Pred Mask\")\n",
    "# Create a legend\n",
    "legend_patches = [\n",
    "    Patch(color=np.array(rgb), label=label)  # Normalize RGB to [0, 1] for matplotlib\n",
    "    for rgb, label in zip(list(LABEL_COLORS.values()), list(LABEL_COLORS.keys()))\n",
    "]\n",
    "axs[2].legend(\n",
    "    handles=legend_patches, bbox_to_anchor=(1.05, 1.05), loc=\"upper left\", title=\"Classes\"\n",
    ")\n",
    "plt.show()"
   ]
  },
  {
   "cell_type": "code",
   "execution_count": null,
   "metadata": {},
   "outputs": [],
   "source": []
  }
 ],
 "metadata": {
  "kernelspec": {
   "display_name": "fparsing",
   "language": "python",
   "name": "python3"
  },
  "language_info": {
   "codemirror_mode": {
    "name": "ipython",
    "version": 3
   },
   "file_extension": ".py",
   "mimetype": "text/x-python",
   "name": "python",
   "nbconvert_exporter": "python",
   "pygments_lexer": "ipython3",
   "version": "3.9.20"
  }
 },
 "nbformat": 4,
 "nbformat_minor": 2
}
